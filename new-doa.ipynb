{
 "cells": [
  {
   "cell_type": "markdown",
   "metadata": {},
   "source": [
    "## Use Audacity to load in .stream~ and export 6 channels of audio\n",
    "## Process mono files and concatenate into 6-channel wav files\n",
    "(skip if already done)"
   ]
  },
  {
   "cell_type": "code",
   "execution_count": 1,
   "metadata": {
    "collapsed": true
   },
   "outputs": [],
   "source": [
    "import soundfile as sf\n",
    "import numpy as np\n",
    "\n",
    "data1,fs=sf.read('./audio_6channels17-01.WAV')\n",
    "data2,fs=sf.read('./audio_6channels17-02.WAV')\n",
    "data3,fs=sf.read('./audio_6channels17-03.WAV')\n",
    "data4,fs=sf.read('./audio_6channels17-04.WAV')\n",
    "data5,fs=sf.read('./audio_6channels17-05.WAV')\n",
    "data6,fs=sf.read('./audio_6channels17-06.WAV')\n",
    "\n"
   ]
  },
  {
   "cell_type": "code",
   "execution_count": 19,
   "metadata": {},
   "outputs": [
    {
     "name": "stdout",
     "output_type": "stream",
     "text": [
      "(58907136, 6)\n"
     ]
    }
   ],
   "source": [
    "#data = np.zeros((data1.shape[0],6))\n",
    "data = np.stack((data1,data2,data3,data4,data5,data6),axis=1)\n",
    "print(data.shape)"
   ]
  },
  {
   "cell_type": "code",
   "execution_count": 20,
   "metadata": {
    "collapsed": true
   },
   "outputs": [],
   "source": [
    "filename = 'audio17_6.wav'\n",
    "sf.write(filename, data, fs)"
   ]
  },
  {
   "cell_type": "markdown",
   "metadata": {},
   "source": [
    "## Overview of the audio file in question \n"
   ]
  },
  {
   "cell_type": "code",
   "execution_count": 21,
   "metadata": {},
   "outputs": [
    {
     "name": "stdout",
     "output_type": "stream",
     "text": [
      "Audio file loaded\n",
      "Audio length: 3681.696 seconds\n",
      "Number of blocks:  18408\n"
     ]
    }
   ],
   "source": [
    "from scipy.io import wavfile\n",
    "import csv\n",
    "\n",
    "#fs, data = wavfile.read('audio17_6.wav')\n",
    "\n",
    "readings = np.zeros([5])\n",
    "max_samples = 10\n",
    "ti=int(fs/5)#designate 0.2s as one block?\n",
    "time=0\n",
    "\n",
    "print('Audio file loaded')\n",
    "print('Audio length:',data.shape[0]/fs,'seconds')\n",
    "print('Number of blocks: ',data.shape[0] // ti)"
   ]
  },
  {
   "cell_type": "markdown",
   "metadata": {},
   "source": [
    "## Basic setup of microphone array and pyroomacoustic"
   ]
  },
  {
   "cell_type": "code",
   "execution_count": 25,
   "metadata": {
    "collapsed": true
   },
   "outputs": [],
   "source": [
    "import pyroomacoustics as pra\n",
    "from pyroomacoustics.doa import circ_dist\n",
    "\n",
    "######\n",
    "# We define a meaningful distance measure on the circle\n",
    "\n",
    "# Location of original source\n",
    "azimuth = 61. / 180. * np.pi  # 60 degrees\n",
    "distance = 3.  # 3 meters\n",
    "\n",
    "#######################\n",
    "# algorithms parameters\n",
    "SNR = 0.    # signal-to-noise ratio\n",
    "c = 343.    # speed of sound\n",
    "fs = 44100  # sampling frequency\n",
    "nfft = 256  # FFT size\n",
    "freq_bins = np.arange(5, 60)  # FFT bins to use for estimation\n",
    "\n",
    "# We use a circular array with radius 15 cm # and 12 microphones\n",
    "R = pra.circular_2D_array((5,5), 6, 0., 0.0463)\n",
    "source = np.array([2, 5])"
   ]
  },
  {
   "cell_type": "code",
   "execution_count": 34,
   "metadata": {
    "collapsed": true
   },
   "outputs": [],
   "source": [
    "import matplotlib.pyplot as plt\n",
    "from IPython.display import clear_output, Image, display, HTML\n",
    "import IPython"
   ]
  },
  {
   "cell_type": "markdown",
   "metadata": {},
   "source": [
    "## Animate DOA at each frame, and record in txt file\n",
    "total #rows written in the csv file should be #blocks = 18408, each block is 0.2 sec"
   ]
  },
  {
   "cell_type": "code",
   "execution_count": 51,
   "metadata": {},
   "outputs": [
    {
     "name": "stdout",
     "output_type": "stream",
     "text": [
      "0.0 %\n",
      "0.5432420686657975 %\n",
      "1.086484137331595 %\n",
      "1.6297262059973925 %\n",
      "2.17296827466319 %\n",
      "2.7162103433289873 %\n",
      "3.259452411994785 %\n",
      "3.8026944806605822 %\n",
      "4.34593654932638 %\n",
      "4.889178617992177 %\n",
      "5.4324206866579745 %\n",
      "5.975662755323772 %\n",
      "6.51890482398957 %\n",
      "7.062146892655368 %\n",
      "7.6053889613211645 %\n",
      "8.148631029986962 %\n",
      "8.69187309865276 %\n",
      "9.235115167318558 %\n",
      "9.778357235984354 %\n",
      "10.321599304650151 %\n",
      "10.864841373315949 %\n",
      "11.408083441981747 %\n",
      "11.951325510647544 %\n",
      "12.494567579313342 %\n",
      "13.03780964797914 %\n",
      "13.581051716644938 %\n",
      "14.124293785310735 %\n",
      "14.667535853976531 %\n",
      "15.210777922642329 %\n",
      "15.754019991308127 %\n",
      "16.297262059973924 %\n",
      "16.840504128639722 %\n",
      "17.38374619730552 %\n",
      "17.926988265971318 %\n",
      "18.470230334637115 %\n",
      "19.013472403302913 %\n",
      "19.556714471968707 %\n",
      "20.099956540634505 %\n",
      "20.643198609300303 %\n",
      "21.1864406779661 %\n",
      "21.729682746631898 %\n",
      "22.272924815297696 %\n",
      "22.816166883963493 %\n",
      "23.35940895262929 %\n",
      "23.90265102129509 %\n",
      "24.445893089960887 %\n",
      "24.989135158626684 %\n",
      "25.53237722729248 %\n",
      "26.07561929595828 %\n",
      "26.618861364624074 %\n",
      "27.162103433289875 %\n",
      "27.70534550195567 %\n",
      "28.24858757062147 %\n",
      "28.791829639287265 %\n",
      "29.335071707953063 %\n",
      "29.87831377661886 %\n",
      "30.421555845284658 %\n",
      "30.964797913950452 %\n",
      "31.508039982616253 %\n",
      "32.05128205128205 %\n",
      "32.59452411994785 %\n",
      "33.13776618861365 %\n",
      "33.681008257279444 %\n",
      "34.22425032594524 %\n",
      "34.76749239461104 %\n",
      "35.31073446327684 %\n",
      "35.853976531942635 %\n",
      "36.39721860060843 %\n",
      "36.94046066927423 %\n",
      "37.48370273794003 %\n",
      "38.026944806605826 %\n",
      "38.570186875271624 %\n",
      "39.113428943937414 %\n",
      "39.65667101260322 %\n",
      "40.19991308126901 %\n",
      "40.743155149934815 %\n",
      "41.286397218600605 %\n",
      "41.82963928726641 %\n",
      "42.3728813559322 %\n",
      "42.916123424598 %\n",
      "43.459365493263796 %\n",
      "44.002607561929594 %\n",
      "44.54584963059539 %\n",
      "45.08909169926119 %\n",
      "45.63233376792699 %\n",
      "46.175575836592785 %\n",
      "46.71881790525858 %\n",
      "47.26205997392438 %\n",
      "47.80530204259018 %\n",
      "48.348544111255976 %\n",
      "48.89178617992177 %\n",
      "49.43502824858757 %\n",
      "49.97827031725337 %\n",
      "50.521512385919166 %\n",
      "51.06475445458496 %\n",
      "51.60799652325076 %\n",
      "52.15123859191656 %\n",
      "52.69448066058236 %\n",
      "53.23772272924815 %\n",
      "53.78096479791395 %\n",
      "54.32420686657975 %\n",
      "54.86744893524554 %\n",
      "55.41069100391134 %\n",
      "55.95393307257714 %\n",
      "56.49717514124294 %\n",
      "57.04041720990873 %\n",
      "57.58365927857453 %\n",
      "58.126901347240334 %\n",
      "58.670143415906125 %\n",
      "59.21338548457192 %\n",
      "59.75662755323772 %\n",
      "60.299869621903525 %\n",
      "60.843111690569316 %\n",
      "61.386353759235114 %\n",
      "61.929595827900904 %\n",
      "62.472837896566716 %\n",
      "63.01607996523251 %\n",
      "63.559322033898304 %\n",
      "64.1025641025641 %\n",
      "64.6458061712299 %\n",
      "65.1890482398957 %\n",
      "65.73229030856149 %\n",
      "66.2755323772273 %\n",
      "66.8187744458931 %\n",
      "67.36201651455889 %\n",
      "67.90525858322468 %\n",
      "68.44850065189048 %\n",
      "68.99174272055629 %\n",
      "69.53498478922208 %\n",
      "70.07822685788787 %\n",
      "70.62146892655367 %\n",
      "71.16471099521947 %\n",
      "71.70795306388527 %\n",
      "72.25119513255106 %\n",
      "72.79443720121687 %\n",
      "73.33767926988266 %\n",
      "73.88092133854846 %\n",
      "74.42416340721425 %\n",
      "74.96740547588006 %\n",
      "75.51064754454585 %\n",
      "76.05388961321165 %\n",
      "76.59713168187744 %\n",
      "77.14037375054325 %\n",
      "77.68361581920904 %\n",
      "78.22685788787483 %\n",
      "78.77009995654063 %\n",
      "79.31334202520644 %\n",
      "79.85658409387223 %\n",
      "80.39982616253802 %\n",
      "80.94306823120382 %\n",
      "81.48631029986963 %\n",
      "82.02955236853542 %\n",
      "82.57279443720121 %\n",
      "83.11603650586702 %\n",
      "83.65927857453282 %\n",
      "84.20252064319861 %\n",
      "84.7457627118644 %\n",
      "85.2890047805302 %\n",
      "85.832246849196 %\n",
      "86.3754889178618 %\n",
      "86.91873098652759 %\n",
      "87.4619730551934 %\n",
      "88.00521512385919 %\n",
      "88.54845719252499 %\n",
      "89.09169926119078 %\n",
      "89.63494132985659 %\n",
      "90.17818339852238 %\n",
      "90.72142546718818 %\n",
      "91.26466753585397 %\n",
      "91.80790960451978 %\n",
      "92.35115167318557 %\n",
      "92.89439374185136 %\n",
      "93.43763581051716 %\n",
      "93.98087787918297 %\n",
      "94.52411994784876 %\n",
      "95.06736201651455 %\n",
      "95.61060408518036 %\n",
      "96.15384615384616 %\n",
      "96.69708822251195 %\n",
      "97.24033029117774 %\n",
      "97.78357235984355 %\n",
      "98.32681442850935 %\n",
      "98.87005649717514 %\n",
      "99.41329856584093 %\n",
      "99.95654063450674 %\n"
     ]
    }
   ],
   "source": [
    "doatxt=\"\"\n",
    "for blocks in range(0,data.shape[0] // ti):\n",
    "#for blocks in range(0,10):\n",
    "    signals=[]\n",
    "    for i in range(0,data.shape[1]):\n",
    "        signals.append(data[blocks*ti:(blocks+1)*ti,i])\n",
    "    #print(len(signals[0]))\n",
    "    X = np.array([ \n",
    "        pra.stft(signal, nfft, nfft // 2, transform=np.fft.rfft).T \n",
    "        for signal in signals ])\n",
    "    #X shape should be (6,129,24)\n",
    "    \n",
    "    algo_name=\"SRP\"   \n",
    "    # Construct the new DOA object\n",
    "    # the max_four parameter is necessary for FRIDA only\n",
    "    doa = pra.doa.algorithms[algo_name](R, fs, nfft, c=c, max_four=4)\n",
    "    \n",
    "    # this call here perform localization on the frames in X\n",
    "    doa.locate_sources(X, freq_bins=freq_bins)\n",
    "    \n",
    "    #for plotting the animation\n",
    "    #doa.polar_plt_dirac()\n",
    "    #plt.title(algo_name)\n",
    "    #clear_output(wait=True)\n",
    "    #plt.show()\n",
    "    \n",
    "    doatxt += str(blocks*0.2)+\" \"+str(doa.azimuth_recon[0] / np.pi * 180.)+\"\\n\"\n",
    "    if blocks%100==0:\n",
    "        #this is the percentage of being done\n",
    "        print(blocks/(data.shape[0] // ti)*100,\"%\")\n",
    "\n",
    "\n",
    "f= open(\"./doa17.txt\",\"w+\")\n",
    "f.write(doatxt)\n",
    "f.close()\n"
   ]
  },
  {
   "cell_type": "markdown",
   "metadata": {},
   "source": [
    "## with txt file, doa info at each block, this should be synchronized with rest of the recorder data"
   ]
  },
  {
   "cell_type": "code",
   "execution_count": null,
   "metadata": {
    "collapsed": true
   },
   "outputs": [],
   "source": []
  }
 ],
 "metadata": {
  "kernelspec": {
   "display_name": "Python [conda env:anaconda3]",
   "language": "python",
   "name": "conda-env-anaconda3-py"
  },
  "language_info": {
   "codemirror_mode": {
    "name": "ipython",
    "version": 3
   },
   "file_extension": ".py",
   "mimetype": "text/x-python",
   "name": "python",
   "nbconvert_exporter": "python",
   "pygments_lexer": "ipython3",
   "version": "3.6.3"
  }
 },
 "nbformat": 4,
 "nbformat_minor": 2
}
